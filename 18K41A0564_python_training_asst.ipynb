{
  "nbformat": 4,
  "nbformat_minor": 0,
  "metadata": {
    "colab": {
      "name": "18K41A0564_python_training_asst.ipynb",
      "provenance": [],
      "collapsed_sections": [],
      "authorship_tag": "ABX9TyM6l/5AUBCUD0D9jFEd/h//",
      "include_colab_link": true
    },
    "kernelspec": {
      "name": "python3",
      "display_name": "Python 3"
    }
  },
  "cells": [
    {
      "cell_type": "markdown",
      "metadata": {
        "id": "view-in-github",
        "colab_type": "text"
      },
      "source": [
        "<a href=\"https://colab.research.google.com/github/trishulkumar/AI/blob/master/18K41A0564_python_training_asst.ipynb\" target=\"_parent\"><img src=\"https://colab.research.google.com/assets/colab-badge.svg\" alt=\"Open In Colab\"/></a>"
      ]
    },
    {
      "cell_type": "markdown",
      "metadata": {
        "id": "n-1ppbMTfPso",
        "colab_type": "text"
      },
      "source": [
        "#  1. Write a Python program to calculate the length of a string without using library function "
      ]
    },
    {
      "cell_type": "code",
      "metadata": {
        "id": "FHTOJnk8fLKJ",
        "colab_type": "code",
        "colab": {
          "base_uri": "https://localhost:8080/",
          "height": 51
        },
        "outputId": "96e93aab-0c12-4514-e797-6606c61a12ee"
      },
      "source": [
        "name=\"trishul\"\n",
        "x=len(name)\n",
        "print(\"normal procedure length = \"+str(x))\n",
        "\n",
        "count=0\n",
        "for num in name:\n",
        "  count=count+1\n",
        "print(\"without length function count = \"+str(count))"
      ],
      "execution_count": 43,
      "outputs": [
        {
          "output_type": "stream",
          "text": [
            "normal procedure length = 7\n",
            "without length function count = 7\n"
          ],
          "name": "stdout"
        }
      ]
    },
    {
      "cell_type": "markdown",
      "metadata": {
        "id": "p2zDBmEkkgal",
        "colab_type": "text"
      },
      "source": [
        "# 2.Write a Python program to count the number of characters (character frequency) in a string\n",
        "    Sample String : google.com\n",
        "    Expected Result : {'g': 2, 'o': 3, 'l': 1, 'e': 1, '.': 1, 'c': 1, 'm': 1}"
      ]
    },
    {
      "cell_type": "code",
      "metadata": {
        "id": "7INVC_30m1Jq",
        "colab_type": "code",
        "colab": {
          "base_uri": "https://localhost:8080/",
          "height": 34
        },
        "outputId": "c87647ce-c85e-455b-ede1-f29213a47fab"
      },
      "source": [
        "string=\"https://www.google.com\"\n",
        "unique=[]\n",
        "for ch in string :\n",
        "  if ch.isalpha() and ch not in unique :\n",
        "    unique.append(ch)\n",
        "#print(unique)\n",
        "count={}\n",
        "for ch in unique :\n",
        "  count[ch]=string.count(ch)\n",
        "print(count)"
      ],
      "execution_count": 87,
      "outputs": [
        {
          "output_type": "stream",
          "text": [
            "{'h': 1, 't': 2, 'p': 1, 's': 1, 'w': 3, 'g': 2, 'o': 3, 'l': 1, 'e': 1, 'c': 1, 'm': 1}\n"
          ],
          "name": "stdout"
        }
      ]
    },
    {
      "cell_type": "markdown",
      "metadata": {
        "id": "dBAz4ID6DAEt",
        "colab_type": "text"
      },
      "source": [
        "# 3. Write a Python program to get a string made of the first 2 and the last 2 chars from a given a string. If the string length is less than 2, return \"empty string\"\n",
        "    Sample String : 'w3resource'\n",
        "\n",
        "    Expected Result : 'w3ce'\n",
        "\n",
        "    Sample String : 'w3'\n",
        "\n",
        "    Expected Result** : 'w3w3'\n",
        "\n",
        "    Sample String** : ' w'\n",
        "\n",
        "    Expected Result** : Empty String\n",
        "\n"
      ]
    },
    {
      "cell_type": "code",
      "metadata": {
        "id": "80rC0qTMnZ2r",
        "colab_type": "code",
        "colab": {
          "base_uri": "https://localhost:8080/",
          "height": 51
        },
        "outputId": "bb8922a2-3946-4556-a9c9-1b98c802b357"
      },
      "source": [
        "string=str(input())\n",
        "if len(string)<2:\n",
        "  print(\"empty string\")\n",
        "else:\n",
        "  new_string=string[:2]+string[-2:]\n",
        "  print(new_string)\n"
      ],
      "execution_count": 86,
      "outputs": [
        {
          "output_type": "stream",
          "text": [
            "w\n",
            "empty string\n"
          ],
          "name": "stdout"
        }
      ]
    },
    {
      "cell_type": "markdown",
      "metadata": {
        "id": "aZ5IL5YLD-4y",
        "colab_type": "text"
      },
      "source": [
        "# 4. Write a Python program to get a string from a given string where all occurrences of its first char have been changed to $, except the first char itself.\n",
        "\n",
        "    Sample String**: 'restart'\n",
        "\n",
        "    Expected Result** : 'resta$t'"
      ]
    },
    {
      "cell_type": "code",
      "metadata": {
        "id": "0_gx4v1jxLLR",
        "colab_type": "code",
        "colab": {
          "base_uri": "https://localhost:8080/",
          "height": 51
        },
        "outputId": "d299fe1a-ab8e-4f9f-c6e4-78f572b2f169"
      },
      "source": [
        "array = []\n",
        "s=input(\"Enter String\")\n",
        "for ch in s:\n",
        "    if ch in array:\n",
        "        array.append('$')\n",
        "    else:\n",
        "        array.append (ch)\n",
        "print(''.join(str(i) for i in array))"
      ],
      "execution_count": 59,
      "outputs": [
        {
          "output_type": "stream",
          "text": [
            "Enter Stringthrishulkumar\n",
            "thris$ulk$ma$\n"
          ],
          "name": "stdout"
        }
      ]
    },
    {
      "cell_type": "markdown",
      "metadata": {
        "id": "gqItXJePFF1K",
        "colab_type": "text"
      },
      "source": [
        "**5. Write a Python program to get a single string from two given strings, separated by a space and swap the first two characters of each string.**\n",
        "\n",
        "    Sample String** : 'abc', 'xyz'\n",
        "\n",
        "    Expected Result** : 'xyc abz'\n",
        "\n"
      ]
    },
    {
      "cell_type": "code",
      "metadata": {
        "id": "SdXbb5ng5fsx",
        "colab_type": "code",
        "colab": {
          "base_uri": "https://localhost:8080/",
          "height": 34
        },
        "outputId": "ba0182af-2483-4847-f433-1361c1b1c786"
      },
      "source": [
        "'''\n",
        "string1=str(input())\n",
        "string2=str(input())\n",
        "'''\n",
        "string1=\"thrishul\"\n",
        "x=len(string1)\n",
        "string2=\"soujal\"\n",
        "y=len(string2)\n",
        "string3=string1[:2]+string2[2:x]\n",
        "string4=string2[:2]+string1[2:x]\n",
        "print(string3+\" \"+string4)"
      ],
      "execution_count": 69,
      "outputs": [
        {
          "output_type": "stream",
          "text": [
            "thujal sorishul\n"
          ],
          "name": "stdout"
        }
      ]
    },
    {
      "cell_type": "markdown",
      "metadata": {
        "id": "TqfXgl4LGYYv",
        "colab_type": "text"
      },
      "source": [
        "# 6. Write a Python program to add 'ing' at the end of a given string (length should be at least 3). If the given string already ends with 'ing' then add 'ly' instead. If the string length of the given string is less than 3, leave it unchanged.\n",
        "    Sample String : 'abc'\n",
        "\n",
        "    Expected Result : 'abcing'\n",
        "\n",
        "    Sample String : 'string'\n",
        "\n",
        "    Expected Result : 'stringly'"
      ]
    },
    {
      "cell_type": "code",
      "metadata": {
        "id": "W6KIxIiL7JsO",
        "colab_type": "code",
        "colab": {
          "base_uri": "https://localhost:8080/",
          "height": 51
        },
        "outputId": "e229d727-b52f-4ab7-d1b8-c22ecfbe33d2"
      },
      "source": [
        "string=str(input())\n",
        "if len(string)<3:\n",
        "  print(string)\n",
        "elif string[-3:]==\"ing\":\n",
        "  new_string=string+\"ly\"\n",
        "  print(new_string)\n",
        "elif string[-3:]!=\"ing\":\n",
        "  new_string=string+\"ing\"\n",
        "  print(new_string)"
      ],
      "execution_count": 83,
      "outputs": [
        {
          "output_type": "stream",
          "text": [
            "string\n",
            "stringly\n"
          ],
          "name": "stdout"
        }
      ]
    },
    {
      "cell_type": "code",
      "metadata": {
        "id": "ofH0agnUA3Sm",
        "colab_type": "code",
        "colab": {}
      },
      "source": [
        "i"
      ],
      "execution_count": null,
      "outputs": []
    },
    {
      "cell_type": "code",
      "metadata": {
        "id": "RX2nCgHZAQNs",
        "colab_type": "code",
        "colab": {}
      },
      "source": [
        ""
      ],
      "execution_count": null,
      "outputs": []
    }
  ]
}