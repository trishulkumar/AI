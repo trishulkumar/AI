{
  "nbformat": 4,
  "nbformat_minor": 0,
  "metadata": {
    "colab": {
      "name": "AI_Asst_18K41A0564.ipynb",
      "provenance": [],
      "collapsed_sections": [],
      "authorship_tag": "ABX9TyNuYn979D2FfgYWXfi9zE1o",
      "include_colab_link": true
    },
    "kernelspec": {
      "name": "python3",
      "display_name": "Python 3"
    }
  },
  "cells": [
    {
      "cell_type": "markdown",
      "metadata": {
        "id": "view-in-github",
        "colab_type": "text"
      },
      "source": [
        "<a href=\"https://colab.research.google.com/github/trishulkumar/AI/blob/master/AI_Asst_18K41A0564.ipynb\" target=\"_parent\"><img src=\"https://colab.research.google.com/assets/colab-badge.svg\" alt=\"Open In Colab\"/></a>"
      ]
    },
    {
      "cell_type": "markdown",
      "metadata": {
        "id": "_xjrtzHgvcJu",
        "colab_type": "text"
      },
      "source": [
        "  1. Zodiac sign"
      ]
    },
    {
      "cell_type": "code",
      "metadata": {
        "id": "RCKLvCAIvarr",
        "colab_type": "code",
        "colab": {
          "base_uri": "https://localhost:8080/",
          "height": 51
        },
        "outputId": "4678fb42-5afb-4f00-f09b-4ca2503a4b10"
      },
      "source": [
        "x=int(input(\"Enter the year for Zodiac sign:\"))\n",
        "year=x%12\n",
        "zodiac={0:\"monkey\",1:\"rooster\",2:\"dog\",3:\"pig\",4:\"rat\",5:\"ox\",6:\"tiger\",7:\"rabbit\",8:\"dragon\",9:\"snake\",10:\"horse\",11:\"sheep\"}\n",
        "print(zodiac[year])"
      ],
      "execution_count": 16,
      "outputs": [
        {
          "output_type": "stream",
          "text": [
            "Enter the year for Zodiac sign:0\n",
            "monkey\n"
          ],
          "name": "stdout"
        }
      ]
    },
    {
      "cell_type": "markdown",
      "metadata": {
        "id": "JlxlXVVvwOK1",
        "colab_type": "text"
      },
      "source": [
        "\n",
        "2.\tA Quick Fox Transport Co. wants to develop an application for calculating amount based on distance and weight of goods. The charges (Amount) to be calculated as per rates given below\n"
      ]
    },
    {
      "cell_type": "code",
      "metadata": {
        "id": "WPdAGL2RwNIX",
        "colab_type": "code",
        "colab": {
          "base_uri": "https://localhost:8080/",
          "height": 68
        },
        "outputId": "238909f9-aa04-4044-c410-c26ece038aed"
      },
      "source": [
        "distance=int(input(\"Distance to be travel:\"))\n",
        "wt=int(input(\"Weight of the goods:\"))\n",
        "if distance>=500:\n",
        "  if wt>=100:\n",
        "    cost=5*distance\n",
        "  elif wt>=10 and wt <100:\n",
        "    cost=6*distance\n",
        "  else:\n",
        "    cost=7*distance \n",
        "else:\n",
        "  if wt>=100:\n",
        "    cost=8*distance\n",
        "  else:\n",
        "    cost=5*distance \n",
        "print(\"Amount to be charged:\",cost)"
      ],
      "execution_count": 17,
      "outputs": [
        {
          "output_type": "stream",
          "text": [
            "Distance to be travel:134\n",
            "Weight of the goods:23\n",
            "Amount to be charged: 670\n"
          ],
          "name": "stdout"
        }
      ]
    },
    {
      "cell_type": "markdown",
      "metadata": {
        "id": "v8X39Q5uwdZt",
        "colab_type": "text"
      },
      "source": [
        "3.\t**The Entertainment Paradise**\n",
        "\n",
        " A theater in Delhi wants to develop a computerized Booking System. The theater offers different types of seats. The Ticket rates are- Stalls- Rs. 625/-, Circle- Rs.750/-, Upper Class- Rs.850/- and Box- Rs.1000/-. A discount is given 10% of total amount if tickets are purchased on Cash. In case of credit card holders 5% discount is given. \n",
        "Input: \tType of Seat: Circle    \n",
        "Payment mode: cash\n",
        "Output: Cost of ticket: 675\n"
      ]
    },
    {
      "cell_type": "code",
      "metadata": {
        "id": "xm08D5gdwdEi",
        "colab_type": "code",
        "colab": {
          "base_uri": "https://localhost:8080/",
          "height": 68
        },
        "outputId": "56fa8b80-3cca-446b-aebf-bfa27a336833"
      },
      "source": [
        "x=[\"Stalls\",\"Circle\",\"UpperClass\",\"box\"]\n",
        "s=input(\"Type of seat:\")\n",
        "paym=input(\"Payment mode:\")\n",
        "p=\"cash\"\n",
        "if paym==p:\n",
        "  if s in x[0]:\n",
        "    dis=625*(0.1)\n",
        "    y=625-dis\n",
        "  elif s in x[1]:\n",
        "    dis=750*(0.1)\n",
        "    y=750-dis\n",
        "  elif s in x[2]:\n",
        "    dis=850*(0.1)\n",
        "    y=850-dis\n",
        "  else:\n",
        "    dis=1000*(0.1)\n",
        "    y=1000-dis\n",
        "else:\n",
        "  if s in x[0]:\n",
        "    dis=625*(0.05)\n",
        "    y=625-dis\n",
        "  elif s in x[1]:\n",
        "    dis=750*(0.05)\n",
        "    y=750-dis\n",
        "  elif s in x[2]:\n",
        "    dis=850*(0.05)\n",
        "    y=850-dis\n",
        "  else:\n",
        "    dis=1000*(0.05)\n",
        "    y=1000-dis\n",
        "print(y)"
      ],
      "execution_count": 18,
      "outputs": [
        {
          "output_type": "stream",
          "text": [
            "Type of seat:circle\n",
            "Payment mode:cash\n",
            "900.0\n"
          ],
          "name": "stdout"
        }
      ]
    },
    {
      "cell_type": "markdown",
      "metadata": {
        "id": "prFXJdLXxAqv",
        "colab_type": "text"
      },
      "source": [
        "4.\tDevelop a program that calculates the energy needed to heat water from an initial temperature to a final temperature. Your program should prompt the user to enter the amount of water in kilograms and the initial and final temperatures of the water. The formula to compute the energy is \n",
        "Q = M * (finalTemperature – initialTemperature) * 4184.\n",
        "where M is the weight of water in kilograms, temperatures are in degrees Celsius,  and energy Q is measured in joules. (L6)\n"
      ]
    },
    {
      "cell_type": "code",
      "metadata": {
        "id": "RWlq5J_mxAe_",
        "colab_type": "code",
        "colab": {
          "base_uri": "https://localhost:8080/",
          "height": 51
        },
        "outputId": "c84a6aaf-01af-4173-a3cb-e1b8d4055dea"
      },
      "source": [
        "w=int(input(\"Enter Amount of water:\"))\n",
        "x=w*(100-0)*4184\n",
        "print(\"Energy:\",x)"
      ],
      "execution_count": 19,
      "outputs": [
        {
          "output_type": "stream",
          "text": [
            "Enter Amount of water:5\n",
            "Energy: 2092000\n"
          ],
          "name": "stdout"
        }
      ]
    },
    {
      "cell_type": "markdown",
      "metadata": {
        "id": "pKL7-vIpf5nV",
        "colab_type": "text"
      },
      "source": [
        "5.\tDevelop a program that prompts user to enter month and  print \n",
        "a.\t“Winter ” -   December ,January and February\n",
        "b.\t“Spring”  -   March ,April and May\n",
        "c.\t“Summer”  --- June ,July, August\n",
        "d.\t“Autumn ”  -- September ,October, November\n"
      ]
    },
    {
      "cell_type": "code",
      "metadata": {
        "id": "7RD6rWQZf9Eh",
        "colab_type": "code",
        "colab": {
          "base_uri": "https://localhost:8080/",
          "height": 51
        },
        "outputId": "d4d09a8d-0c26-47b9-e4b5-386b718ab7d1"
      },
      "source": [
        "month = input(\"Input the month (e.g. January, February etc.): \")\n",
        "\n",
        "\n",
        "if month in ('December', 'February', 'January'):\n",
        "\tseason = 'Winter'\n",
        "elif month in ('March', 'April', 'May'):\n",
        "\tseason = 'Spring'\n",
        "elif month in ('July', 'July', 'August'):\n",
        "\tseason = 'Summer'\n",
        "else:\n",
        "\tseason = 'Autumn'\n",
        "\n",
        "\n",
        "print(\"Season is\",season)"
      ],
      "execution_count": 20,
      "outputs": [
        {
          "output_type": "stream",
          "text": [
            "Input the month (e.g. January, February etc.): August\n",
            "Season is Summer\n"
          ],
          "name": "stdout"
        }
      ]
    },
    {
      "cell_type": "markdown",
      "metadata": {
        "id": "cgSRtU-GyKFI",
        "colab_type": "text"
      },
      "source": [
        "6.\tBody Mass Index"
      ]
    },
    {
      "cell_type": "code",
      "metadata": {
        "id": "QXQz7gYzyNQD",
        "colab_type": "code",
        "colab": {
          "base_uri": "https://localhost:8080/",
          "height": 85
        },
        "outputId": "829880a1-6dfe-4728-b7bd-2aadeba120f2"
      },
      "source": [
        "wt=float(input(\"Enter weight:\"))\n",
        "ht=float(input(\"Enter height:\"))\n",
        "wt=wt*0.45359237\n",
        "ht=ht*0.0254\n",
        "b=wt/(ht**2)\n",
        "if b<18.5:\n",
        "  print(\"Underweight\")\n",
        "elif b>=18.5 and b<25.0:\n",
        "  print(\"Normal\")\n",
        "elif b>=25.0 and b<30.0:\n",
        "  print(\"Overweight\")\n",
        "else:\n",
        "  print(\"Obese\") \n",
        "print(\"BMI is:\",b)"
      ],
      "execution_count": 21,
      "outputs": [
        {
          "output_type": "stream",
          "text": [
            "Enter weight:34\n",
            "Enter height:199\n",
            "Underweight\n",
            "BMI is: 0.6036303554892911\n"
          ],
          "name": "stdout"
        }
      ]
    },
    {
      "cell_type": "markdown",
      "metadata": {
        "id": "IrHYLeM-Z4oF",
        "colab_type": "text"
      },
      "source": [
        "7.\tWrite a program that reads an integer between 100 and 1000 and adds all the digits in the integer \t(\tex: input 745 \t# output =16\t(7+4+5)\t)"
      ]
    },
    {
      "cell_type": "code",
      "metadata": {
        "id": "PKbneostZ4_u",
        "colab_type": "code",
        "colab": {
          "base_uri": "https://localhost:8080/",
          "height": 51
        },
        "outputId": "15e6a5a4-3a26-4850-9061-0d7f9ee4c08a"
      },
      "source": [
        "# Python program to sum all the digits of an input number\n",
        "num = int(input(\"Enter a Number: \"))\n",
        "result = 0\n",
        "hold = num\n",
        "while num > 0:\n",
        "    rem = num % 10\n",
        "    result = result + rem\n",
        "    num = int(num/10)\n",
        "print(\"Sum of all digits of\", hold, \"is: \", result)\n"
      ],
      "execution_count": 22,
      "outputs": [
        {
          "output_type": "stream",
          "text": [
            "Enter a Number: 234\n",
            "Sum of all digits of 234 is:  9\n"
          ],
          "name": "stdout"
        }
      ]
    },
    {
      "cell_type": "markdown",
      "metadata": {
        "id": "GGOmD4UCY_K5",
        "colab_type": "text"
      },
      "source": [
        " 8.Print all palindrome number from 1 to 1000"
      ]
    },
    {
      "cell_type": "code",
      "metadata": {
        "id": "G9YRjyaYY_n6",
        "colab_type": "code",
        "colab": {
          "base_uri": "https://localhost:8080/",
          "height": 105
        },
        "outputId": "5718c557-2476-4252-c2ae-e653b9f38518"
      },
      "source": [
        "minimum = int(input(\" Please Enter the Minimum Value : \"))\n",
        "maximum = int(input(\" Please Enter the Maximum Value : \"))\n",
        "\n",
        "print(\"Palindrome Numbers between %d and %d are : \" %(minimum, maximum))\n",
        "for num in range(minimum, maximum + 1):\n",
        "    temp = num\n",
        "    reverse = 0\n",
        "    \n",
        "    while(temp > 0):\n",
        "        Reminder = temp % 10\n",
        "        reverse = (reverse * 10) + Reminder\n",
        "        temp = temp //10\n",
        "\n",
        "    if(num == reverse):\n",
        "        print(\"%d \" %num, end = '  ')"
      ],
      "execution_count": 23,
      "outputs": [
        {
          "output_type": "stream",
          "text": [
            " Please Enter the Minimum Value : 1\n",
            " Please Enter the Maximum Value : 1000\n",
            "Palindrome Numbers between 1 and 1000 are : \n",
            "1   2   3   4   5   6   7   8   9   11   22   33   44   55   66   77   88   99   101   111   121   131   141   151   161   171   181   191   202   212   222   232   242   252   262   272   282   292   303   313   323   333   343   353   363   373   383   393   404   414   424   434   444   454   464   474   484   494   505   515   525   535   545   555   565   575   585   595   606   616   626   636   646   656   666   676   686   696   707   717   727   737   747   757   767   777   787   797   808   818   828   838   848   858   868   878   888   898   909   919   929   939   949   959   969   979   989   999   "
          ],
          "name": "stdout"
        }
      ]
    },
    {
      "cell_type": "markdown",
      "metadata": {
        "id": "F3yuvVBEZsc2",
        "colab_type": "text"
      },
      "source": [
        "9. Program to check Armstrong numbers in a certain interval**"
      ]
    },
    {
      "cell_type": "code",
      "metadata": {
        "id": "vbX8ELJ8ZuyZ",
        "colab_type": "code",
        "colab": {
          "base_uri": "https://localhost:8080/",
          "height": 102
        },
        "outputId": "1b1382d0-60c5-4090-af25-d7f118e359a9"
      },
      "source": [
        "# Program to check Armstrong numbers in a certain interval\n",
        "\n",
        "lower = 100\n",
        "upper = 2000\n",
        "\n",
        "for num in range(lower, upper + 1):\n",
        "\n",
        "   # order of number\n",
        "   order = len(str(num))\n",
        "    \n",
        "   # initialize sum\n",
        "   sum = 0\n",
        "\n",
        "   temp = num\n",
        "   while temp > 0:\n",
        "       digit = temp % 10\n",
        "       sum += digit ** order\n",
        "       temp //= 10\n",
        "\n",
        "   if num == sum:\n",
        "       print(num)"
      ],
      "execution_count": 24,
      "outputs": [
        {
          "output_type": "stream",
          "text": [
            "153\n",
            "370\n",
            "371\n",
            "407\n",
            "1634\n"
          ],
          "name": "stdout"
        }
      ]
    },
    {
      "cell_type": "markdown",
      "metadata": {
        "id": "NTm2ewTXyzPV",
        "colab_type": "text"
      },
      "source": [
        "10.\tWrite a Java program which iterates the integers from 1 to 100. For multiples of three print \"Fizz\" instead of the number and print \"Buzz\" for the multiples of five. When number is divided by both three and five, print \"fizz buzz\"."
      ]
    },
    {
      "cell_type": "code",
      "metadata": {
        "id": "EXMmJDz5y0E6",
        "colab_type": "code",
        "colab": {
          "base_uri": "https://localhost:8080/",
          "height": 1000
        },
        "outputId": "f940a1c3-a316-49ef-f415-f98c29dff8a6"
      },
      "source": [
        "for i in range(1,101):\n",
        "  if i%3==0 and i%5==0:\n",
        "    print(\"Fizz buzz\")\n",
        "  elif i%5==0:\n",
        "    print(\"buzz\")\n",
        "  elif i%3==0:\n",
        "    print(\"fizz\")\n",
        "  else:\n",
        "    print(i)"
      ],
      "execution_count": 25,
      "outputs": [
        {
          "output_type": "stream",
          "text": [
            "1\n",
            "2\n",
            "fizz\n",
            "4\n",
            "buzz\n",
            "fizz\n",
            "7\n",
            "8\n",
            "fizz\n",
            "buzz\n",
            "11\n",
            "fizz\n",
            "13\n",
            "14\n",
            "Fizz buzz\n",
            "16\n",
            "17\n",
            "fizz\n",
            "19\n",
            "buzz\n",
            "fizz\n",
            "22\n",
            "23\n",
            "fizz\n",
            "buzz\n",
            "26\n",
            "fizz\n",
            "28\n",
            "29\n",
            "Fizz buzz\n",
            "31\n",
            "32\n",
            "fizz\n",
            "34\n",
            "buzz\n",
            "fizz\n",
            "37\n",
            "38\n",
            "fizz\n",
            "buzz\n",
            "41\n",
            "fizz\n",
            "43\n",
            "44\n",
            "Fizz buzz\n",
            "46\n",
            "47\n",
            "fizz\n",
            "49\n",
            "buzz\n",
            "fizz\n",
            "52\n",
            "53\n",
            "fizz\n",
            "buzz\n",
            "56\n",
            "fizz\n",
            "58\n",
            "59\n",
            "Fizz buzz\n",
            "61\n",
            "62\n",
            "fizz\n",
            "64\n",
            "buzz\n",
            "fizz\n",
            "67\n",
            "68\n",
            "fizz\n",
            "buzz\n",
            "71\n",
            "fizz\n",
            "73\n",
            "74\n",
            "Fizz buzz\n",
            "76\n",
            "77\n",
            "fizz\n",
            "79\n",
            "buzz\n",
            "fizz\n",
            "82\n",
            "83\n",
            "fizz\n",
            "buzz\n",
            "86\n",
            "fizz\n",
            "88\n",
            "89\n",
            "Fizz buzz\n",
            "91\n",
            "92\n",
            "fizz\n",
            "94\n",
            "buzz\n",
            "fizz\n",
            "97\n",
            "98\n",
            "fizz\n",
            "buzz\n"
          ],
          "name": "stdout"
        }
      ]
    },
    {
      "cell_type": "markdown",
      "metadata": {
        "id": "QSPCeXrey7ex",
        "colab_type": "text"
      },
      "source": [
        "11.\tSpider Problem: A spider present at the bottom of the well of height H, needs to get out of it, using the slippery wall of the well. It decides to climb up the well; it goes up U meters and slips down D meters in one single step. So, in each step it covers (U-D) meters, and if the spider gets out of the well by covering U meters in the last step it doesn’t a slip back. For example, if the spider climbs up 5 meters and slips down by 3 meters in a single step, it covers (U - D) m in each step and 96 m in 48 steps, but in the 49th step it climbs up 5 m and reaches out of the well and it will not slip down and the step is counted as one step.     \n",
        "Input: Each test case will contain 3 integers ’H’ height of the well, next ’U’ meters climbs up in each step, and the last ’D’ meters slips down in each step.\n",
        "Output:  The number of steps 'N' required to get out of the well.\n",
        "Example 1:\n",
        " \tInput:\t\t\t\t\t\tOuput \n",
        "\t200 50 1\t\t\t\t\t    5\n",
        "\tExample 2:\n",
        " \tInput:\t\t\t\t\t\tOutput\n",
        "\t500 20 15\t\t\t\t\t   98\n"
      ]
    },
    {
      "cell_type": "code",
      "metadata": {
        "id": "bRXpKMxky7ri",
        "colab_type": "code",
        "colab": {
          "base_uri": "https://localhost:8080/",
          "height": 85
        },
        "outputId": "99aa02e8-d9fe-466c-b5c1-1e06f262514b"
      },
      "source": [
        "hgt=int(input(\"hgt:\"))\n",
        "u=int(input(\"u:\"))\n",
        "d=int(input(\"d:\"))\n",
        "k=0\n",
        "while (u-d)*k <=(hgt-u):\n",
        "    k=k+1\n",
        "print(k+1)"
      ],
      "execution_count": 26,
      "outputs": [
        {
          "output_type": "stream",
          "text": [
            "hgt:23\n",
            "u:12\n",
            "d:2\n",
            "3\n"
          ],
          "name": "stdout"
        }
      ]
    }
  ]
}