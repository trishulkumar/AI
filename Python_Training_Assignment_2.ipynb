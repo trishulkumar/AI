{
  "nbformat": 4,
  "nbformat_minor": 0,
  "metadata": {
    "colab": {
      "name": "Python_Training_Assignment_2.ipynb",
      "provenance": [],
      "collapsed_sections": [],
      "authorship_tag": "ABX9TyPkaj/E5+opVHPtHWW+6y7V",
      "include_colab_link": true
    },
    "kernelspec": {
      "name": "python3",
      "display_name": "Python 3"
    }
  },
  "cells": [
    {
      "cell_type": "markdown",
      "metadata": {
        "id": "view-in-github",
        "colab_type": "text"
      },
      "source": [
        "<a href=\"https://colab.research.google.com/github/trishulkumar/AI/blob/master/Python_Training_Assignment_2.ipynb\" target=\"_parent\"><img src=\"https://colab.research.google.com/assets/colab-badge.svg\" alt=\"Open In Colab\"/></a>"
      ]
    },
    {
      "cell_type": "markdown",
      "metadata": {
        "id": "2XE6qtgWpWMN",
        "colab_type": "text"
      },
      "source": [
        "Write a program that takes your full name as input and displays the abbreviations of the first and middle names except the last name which is displayed as it is. For example, if your name is Robert Brett Roser, then the output should be R.B.Roser."
      ]
    },
    {
      "cell_type": "code",
      "metadata": {
        "id": "jILIwShaGVLh",
        "colab_type": "code",
        "colab": {
          "base_uri": "https://localhost:8080/",
          "height": 102
        },
        "outputId": "4dc9d2b6-cd24-4fe7-987b-4a446ecd873d"
      },
      "source": [
        "\n",
        "def abbrevate_name(name):\n",
        "   x=name.split()\n",
        "   word=name.split()\n",
        "   word1=list(word)\n",
        "   first_name=word[0]\n",
        "   middle_name=word[1]\n",
        "   last_name=word1[2]\n",
        "   print(\"first Name is   :    \"+ first_name)\n",
        "   print(\"Middle Name is  :    \"+ middle_name)\n",
        "   print(\"Last Name is    :    \"+ last_name)\n",
        "   last_name=word[2]\n",
        "   return (x[0][0:1]+'.'+x[1][0:1]+'.'+x[2])+'.'\n",
        "\n",
        "fname=input(\"Enter Fullname: \")\n",
        "fname=abbrevate_name(fname)\n",
        "print(\"Desrired Output :    \"+fname)"
      ],
      "execution_count": 50,
      "outputs": [
        {
          "output_type": "stream",
          "text": [
            "Enter Fullname: Robert Brett Roser\n",
            "first Name is   :    Robert\n",
            "Middle Name is  :    Brett\n",
            "Last Name is    :    Roser\n",
            "Desrired Output :    R.B.Roser.\n"
          ],
          "name": "stdout"
        }
      ]
    },
    {
      "cell_type": "markdown",
      "metadata": {
        "id": "mli9b9LE4qqU",
        "colab_type": "text"
      },
      "source": [
        "Write a program to find out the largest and smallest word in the string \"This is an umbrella\"."
      ]
    },
    {
      "cell_type": "code",
      "metadata": {
        "id": "CWEs_aQd4jv2",
        "colab_type": "code",
        "colab": {
          "base_uri": "https://localhost:8080/",
          "height": 51
        },
        "outputId": "d611a51a-32f9-4002-bd03-c50dd9c266d4"
      },
      "source": [
        "from collections import Counter\n",
        "\n",
        "line = 'This is an umbrella'\n",
        "c = Counter({word: len(word) for word in line.split()})\n",
        "\n",
        "print(c.most_common(1)[0])  \n",
        "print(c.most_common()[-1])  "
      ],
      "execution_count": 20,
      "outputs": [
        {
          "output_type": "stream",
          "text": [
            "('umbrella', 8)\n",
            "('an', 2)\n"
          ],
          "name": "stdout"
        }
      ]
    },
    {
      "cell_type": "markdown",
      "metadata": {
        "id": "S8jKUr5yp-Ln",
        "colab_type": "text"
      },
      "source": [
        "Write a program to make a new string with all the consonents deleted from the string \"Hello, have a good day\"."
      ]
    },
    {
      "cell_type": "code",
      "metadata": {
        "id": "c8Hu1LquEGHU",
        "colab_type": "code",
        "colab": {
          "base_uri": "https://localhost:8080/",
          "height": 51
        },
        "outputId": "ce5b626b-4e6f-46f1-c90e-60bc8fe81c68"
      },
      "source": [
        "#Write a program to make a new string with all the consonents deleted from the string \"Hello, have a good day\".\n",
        "\n",
        "test_string = \"Hello, have a good day\"\n",
        "print(\"The original string is : \" + test_string) \n",
        "res = [] \n",
        "for chr in test_string: \n",
        "    if chr in \"aeiouAEIOU\": \n",
        "        res.extend(chr) \n",
        "res = \"\".join(res) \n",
        "print(\"New String after Removing of consonents  : \" + str(res))  "
      ],
      "execution_count": 16,
      "outputs": [
        {
          "output_type": "stream",
          "text": [
            "The original string is : Hello, have a good day\n",
            "New String after Removing of consonents  : eoaeaooa\n"
          ],
          "name": "stdout"
        }
      ]
    },
    {
      "cell_type": "markdown",
      "metadata": {
        "id": "NJzsyBUL4Rdm",
        "colab_type": "text"
      },
      "source": [
        " Write down the names of your friends in a list and then sort those in alphabetically ascending order."
      ]
    },
    {
      "cell_type": "code",
      "metadata": {
        "id": "sH3wJR4LsmVw",
        "colab_type": "code",
        "colab": {
          "base_uri": "https://localhost:8080/",
          "height": 187
        },
        "outputId": "251f1c15-688f-4bc2-8f71-0542a347894e"
      },
      "source": [
        "#Write down the names of 10 of your friends in a list and then sort those in alphabetically ascending order.\n",
        "a = ['Thrishul','thrishul','soujal','chinnu','Chinnu','Soujal','Arraboina','arraboina','bittu','kamakshi','sanju','Bhanu']\n",
        "print(\"Before sorting\")\n",
        "print(\"\\n\")\n",
        "print(a)\n",
        "a.sort()\n",
        "print(\"\\n\")\n",
        "print(\"After sorting\")\n",
        "print(\"\\n\")\n",
        "print(a)"
      ],
      "execution_count": 28,
      "outputs": [
        {
          "output_type": "stream",
          "text": [
            "Before sorting\n",
            "\n",
            "\n",
            "['Thrishul', 'thrishul', 'soujal', 'chinnu', 'Chinnu', 'Soujal', 'Arraboina', 'arraboina', 'bittu', 'kamakshi', 'sanju', 'Bhanu']\n",
            "\n",
            "\n",
            "After sorting\n",
            "\n",
            "\n",
            "['Arraboina', 'Bhanu', 'Chinnu', 'Soujal', 'Thrishul', 'arraboina', 'bittu', 'chinnu', 'kamakshi', 'sanju', 'soujal', 'thrishul']\n"
          ],
          "name": "stdout"
        }
      ]
    },
    {
      "cell_type": "markdown",
      "metadata": {
        "id": "8oAkOBMGqop-",
        "colab_type": "text"
      },
      "source": [
        "Write a program to find the number of vowels, consonents, digits and white space characters in a string."
      ]
    },
    {
      "cell_type": "code",
      "metadata": {
        "id": "O3FwP2zCqqdi",
        "colab_type": "code",
        "colab": {
          "base_uri": "https://localhost:8080/",
          "height": 102
        },
        "outputId": "3a12cbb5-f9ff-4659-e52e-9e307d999248"
      },
      "source": [
        "string=list(input(\"Enter the string Thrishul \"))\n",
        "v=0 \n",
        "cons=0\n",
        "digits=0\n",
        "ws=0\n",
        "for i in range(len(string)):\n",
        "  string[i].lower()\n",
        "  if string[i]=='a' or string[i]=='e' or string[i]=='i' or string[i]=='o' or string[i]=='u':\n",
        "    v+=1\n",
        "  elif string[i]>'a' and string[i]<'z':\n",
        "    cons+=1\n",
        "  elif string[i]>=\"0\" and string[i]<='9':\n",
        "    digits+=1\n",
        "  else:\n",
        "    ws+=1\n",
        "\n",
        "\n",
        "print(\"no of Vowels      :    \",v)\n",
        "print(\"no of Consonents  :    \",cons)\n",
        "print(\"No of Digits      :    \",digits)\n",
        "print(\"no of White Spaces:    \",ws)"
      ],
      "execution_count": 52,
      "outputs": [
        {
          "output_type": "stream",
          "text": [
            "Enter the string Thrishul thrishul your admission number is 1195502\n",
            "no of Vowels      :     11\n",
            "no of Consonents  :     18\n",
            "No of Digits      :     7\n",
            "no of White Spaces:     5\n"
          ],
          "name": "stdout"
        }
      ]
    },
    {
      "cell_type": "code",
      "metadata": {
        "id": "0X9j4MtWtXrL",
        "colab_type": "code",
        "colab": {}
      },
      "source": [
        ""
      ],
      "execution_count": null,
      "outputs": []
    }
  ]
}